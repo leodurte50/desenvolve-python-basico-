{
 "cells": [
  {
   "cell_type": "markdown",
   "id": "0d5035b5",
   "metadata": {},
   "source": [
    "# Set\n",
    "\n",
    "## Aula 8.1"
   ]
  },
  {
   "cell_type": "markdown",
   "id": "0bdece85",
   "metadata": {},
   "source": [
    "### Q1. \n",
    "\n",
    "Dada uma string qualquer, use seu conhecimento de sets para apresentar os caracteres únicos que aparecem na string, ordenados alfabeticamente e sem duplicatas. Preste atenção em duplicatas de maiúsculas e minúsculas.\n"
   ]
  },
  {
   "cell_type": "code",
   "execution_count": null,
   "id": "0a258eba",
   "metadata": {},
   "outputs": [
    {
     "ename": "",
     "evalue": "",
     "output_type": "error",
     "traceback": [
      "\u001b[1;31mA execução de células com 'c:\\Users\\Administrador\\AppData\\Local\\Microsoft\\WindowsApps\\python3.12.exe' requer o pacote ipykernel.\n",
      "\u001b[1;31mRun the following command to install 'ipykernel' into the Python environment. \n",
      "\u001b[1;31mCommand: 'c:/Users/Administrador/AppData/Local/Microsoft/WindowsApps/python3.12.exe -m pip install ipykernel -U --user --force-reinstall'"
     ]
    }
   ],
   "source": [
    "frase = \"O rato roeu a roupa do Robson\"\n",
    "\n",
    "## Implemente aqui sua solução\n",
    "frase = \"O rato roeu a roupa do Robson\"\n",
    "caracteres = set(frase.lower())\n",
    "caracteres_ordenados = sorted(caracteres)\n",
    "print(''.join(caracteres_ordenados))\n",
    "\n",
    "\n"
   ]
  },
  {
   "cell_type": "markdown",
   "id": "0856bd56",
   "metadata": {},
   "source": [
    "### Q2\n",
    "\n",
    "Desenvolva uma função em Python chamada ```tem_elementos_comuns()``` que recebe duas listas como parâmetros e retorna True se houver algum elemento comum entre as duas listas, e False caso contrário. Utilize sets para resolver essa tarefa."
   ]
  },
  {
   "cell_type": "code",
   "execution_count": null,
   "id": "f7ab6736",
   "metadata": {},
   "outputs": [
    {
     "ename": "",
     "evalue": "",
     "output_type": "error",
     "traceback": [
      "\u001b[1;31mA execução de células com 'c:\\Users\\Administrador\\AppData\\Local\\Microsoft\\WindowsApps\\python3.12.exe' requer o pacote ipykernel.\n",
      "\u001b[1;31mRun the following command to install 'ipykernel' into the Python environment. \n",
      "\u001b[1;31mCommand: 'c:/Users/Administrador/AppData/Local/Microsoft/WindowsApps/python3.12.exe -m pip install ipykernel -U --user --force-reinstall'"
     ]
    }
   ],
   "source": [
    "# Implemente aqui a função tem_elementos_comuns()\n",
    "\n",
    "def tem_elementos_comuns(lista1, lista2):\n",
    "    \"\"\"\n",
    "    Verifica se duas listas têm elementos em comum.\n",
    "    \n",
    "    Args:\n",
    "        lista1 (list): A primeira lista.\n",
    "        lista2 (list): A segunda lista.\n",
    "        \n",
    "    Returns:\n",
    "        bool: True se as listas têm elementos em comum, False caso contrário.\n",
    "    \"\"\"\n",
    "    # Converte as listas em sets para remover duplicatas\n",
    "    set1 = set(lista1)\n",
    "    set2 = set(lista2)\n",
    "    \n",
    "    # Verifica se os sets têm interseção não vazia\n",
    "    return bool(set1 & set2)\n",
    "\n",
    "#Você pode usar essa função da seguinte maneira:\n",
    "lista1 = [1, 2, 3, 4, 5]\n",
    "lista2 = [4, 5, 6, 7, 8]\n",
    "lista3 = [6, 7, 8, 9, 10]\n",
    "\n",
    "\n",
    "print(tem_elementos_comuns(lista1, lista2))  # True\n",
    "print(tem_elementos_comuns(lista1, lista3))  # False"
   ]
  },
  {
   "cell_type": "code",
   "execution_count": null,
   "id": "1022744a",
   "metadata": {},
   "outputs": [
    {
     "ename": "",
     "evalue": "",
     "output_type": "error",
     "traceback": [
      "\u001b[1;31mA execução de células com 'c:\\Users\\Administrador\\AppData\\Local\\Microsoft\\WindowsApps\\python3.12.exe' requer o pacote ipykernel.\n",
      "\u001b[1;31mRun the following command to install 'ipykernel' into the Python environment. \n",
      "\u001b[1;31mCommand: 'c:/Users/Administrador/AppData/Local/Microsoft/WindowsApps/python3.12.exe -m pip install ipykernel -U --user --force-reinstall'"
     ]
    }
   ],
   "source": [
    "# Execute esta célula para testar a função da Q2.\n",
    "\n",
    "lista1 = [1, 2, 3, 4]\n",
    "lista2 = [3, 4, 5, 6, 7]\n",
    "resultado = tem_elementos_comuns(lista1, lista2)\n",
    "print(resultado)  # Saída esperada: True"
   ]
  },
  {
   "cell_type": "markdown",
   "id": "649a5082",
   "metadata": {},
   "source": [
    "### Q3. \n",
    "\n",
    "Você vai coletar de diferentes turmas de alunos seus interesses em atividades extra curriculares dentre futebol, vôlei, rugby, música, teatro, ações comunitárias. Informe o conjunto de atividades comuns a todas a turmas. Pode preencher o iterável turmas com valores arbitrários. \n"
   ]
  },
  {
   "cell_type": "code",
   "execution_count": null,
   "id": "880a9927",
   "metadata": {},
   "outputs": [
    {
     "ename": "",
     "evalue": "",
     "output_type": "error",
     "traceback": [
      "\u001b[1;31mA execução de células com 'c:\\Users\\Administrador\\AppData\\Local\\Microsoft\\WindowsApps\\python3.12.exe' requer o pacote ipykernel.\n",
      "\u001b[1;31mRun the following command to install 'ipykernel' into the Python environment. \n",
      "\u001b[1;31mCommand: 'c:/Users/Administrador/AppData/Local/Microsoft/WindowsApps/python3.12.exe -m pip install ipykernel -U --user --force-reinstall'"
     ]
    }
   ],
   "source": [
    "turmas = [\n",
    "     {'ações comunitárias', 'futebol', 'música', 'rugby'},\n",
    "     {'ações comunitárias', 'música', 'rugby', 'teatro'},\n",
    "     {'música', 'rugby', 'teatro', 'vôlei'},\n",
    "     {'música', 'vôlei', 'rugby'},\n",
    "     {'ações comunitárias', 'futebol', 'rugby', 'teatro', 'vôlei'},\n",
    "     {'ações comunitárias', 'futebol', 'rugby'},\n",
    "     {'ações comunitárias', 'rugby', 'teatro', 'vôlei'},\n",
    "     {'ações comunitárias', 'rugby', 'teatro', 'vôlei'},\n",
    "     {'ações comunitárias', 'rugby', 'vôlei'}\n",
    "]\n",
    "\n",
    "\n",
    "## Implemente aqui sua solução\n",
    "turmas = [\n",
    "     {'ações comunitárias', 'futebol', 'música', 'rugby'},\n",
    "     {'ações comunitárias', 'música', 'rugby', 'teatro'},\n",
    "     {'música', 'rugby', 'teatro', 'vôlei'},\n",
    "     {'música', 'vôlei', 'rugby'},\n",
    "     {'ações comunitárias', 'futebol', 'rugby', 'teatro', 'vôlei'},\n",
    "     {'ações comunitárias', 'futebol', 'rugby'},\n",
    "     {'ações comunitárias', 'rugby', 'teatro', 'vôlei'},\n",
    "     {'ações comunitárias', 'rugby', 'teatro', 'vôlei'},\n",
    "     {'ações comunitárias', 'rugby', 'vôlei'}\n",
    "]\n",
    "atividades_comuns = set.intersection(*turmas)\n",
    "print(atividades_comuns)\n"
   ]
  },
  {
   "cell_type": "markdown",
   "id": "021e2b1e",
   "metadata": {},
   "source": [
    "### Q4. \n",
    "Considere duas listas que são duplicatas uma da outra, exceto por um elemento, exemplo:\n",
    "```\n",
    "A = [1, 4, 5, 7, 9]\n",
    "B = [4, 5, 7, 9]\n",
    "```\n",
    "\n",
    "Encontre e apresente o elemento diferente, informando também qual das listas está desfalcada. Para o exemplo acima, a saída esperada é\n",
    "```\n",
    "O elemento 1 está faltando na segunda lista\n",
    "```"
   ]
  },
  {
   "cell_type": "code",
   "execution_count": null,
   "id": "608761a4",
   "metadata": {},
   "outputs": [
    {
     "ename": "",
     "evalue": "",
     "output_type": "error",
     "traceback": [
      "\u001b[1;31mA execução de células com 'c:\\Users\\Administrador\\AppData\\Local\\Microsoft\\WindowsApps\\python3.12.exe' requer o pacote ipykernel.\n",
      "\u001b[1;31mRun the following command to install 'ipykernel' into the Python environment. \n",
      "\u001b[1;31mCommand: 'c:/Users/Administrador/AppData/Local/Microsoft/WindowsApps/python3.12.exe -m pip install ipykernel -U --user --force-reinstall'"
     ]
    }
   ],
   "source": [
    "## Implemente aqui sua solução\n",
    "def elemento_diferente(A, B):\n",
    "    \"\"\"\n",
    "    Encontra o elemento diferente entre duas listas.\n",
    "    \n",
    "    Args:\n",
    "        A (list): A primeira lista.\n",
    "        B (list): A segunda lista.\n",
    "        \n",
    "    Returns:\n",
    "        str: O elemento diferente e a lista em que ele está faltando.\n",
    "    \"\"\"\n",
    "    # Converte as listas em conjuntos\n",
    "    setA = set(A)\n",
    "    setB = set(B)\n",
    "    \n",
    "    # Calcula a diferença entre os conjuntos\n",
    "    diferenca = setA - setB\n",
    "    \n",
    "    # Verifica se a diferença não é vazia\n",
    "    if diferenca:\n",
    "        # Encontra o elemento que falta\n",
    "        elemento = list(diferenca)[0]\n",
    "        \n",
    "        # Verifica qual lista está faltando o elemento\n",
    "        if elemento in A and elemento not in B:\n",
    "            return f'O elemento {elemento} está faltando na segunda lista'\n",
    "        elif elemento not in A and elemento in B:\n",
    "            return f'O elemento {elemento} está faltando na primeira lista'\n",
    "    else:\n",
    "        return 'As listas são idênticas'\n",
    "\n",
    "\n",
    "A = [1, 4, 5, 7, 9]\n",
    "B = [4, 5, 7, 9]\n",
    "print(elemento_diferente(A, B))\n",
    "\n"
   ]
  },
  {
   "cell_type": "markdown",
   "id": "ddf180c1",
   "metadata": {},
   "source": [
    "### Q5.\n",
    "\n",
    "Panagramas são frases que contém todas as letras do alfabeto pelo menos uma vez. Crie uma função ```checa_panagrama``` que recebe uma string e retorna ```True``` caso seja um panagrama ou ```False```caso contrário. Use seu conhecimento de sets para solucionar essa questão.\n",
    "\n",
    "Ex: \n",
    "```\n",
    "Entrada: \"The quick brown fox jumps over the lazy dog\" \n",
    "Saída: É um panagrama\n",
    "```\n",
    "\n",
    "```\n",
    "Entrada: \"Python é uma linguagem de programação\" \n",
    "Saída: Não é um panagrama\n",
    "```"
   ]
  },
  {
   "cell_type": "code",
   "execution_count": null,
   "id": "4e8b0390",
   "metadata": {},
   "outputs": [],
   "source": [
    "## Implemente aqui sua solução\n",
    "\n",
    "def checa_panagrama(frase):\n",
    "    \"\"\"\n",
    "    Verifica se uma string é um panagrama.\n",
    "    \n",
    "    Args:\n",
    "        frase (str): A string a ser verificada.\n",
    "        \n",
    "    Returns:\n",
    "        bool: True se a string é um panagrama, False caso contrário.\n",
    "    \"\"\"\n",
    "    # Converte a string em um conjunto de caracteres\n",
    "    conjunto_frase = set(frase.lower())\n",
    "    \n",
    "    # Verifica se o conjunto de caracteres é igual ao conjunto completo do alfabeto\n",
    "    return conjunto_frase == {'a', 'b', 'c', 'd', 'e', 'f', 'g', 'h', 'i', 'j', 'k', 'l', 'm', 'n', 'o', 'p', 'q', 'r', 's', 't', 'u', 'v', 'w', 'x', 'y', 'z'}\n",
    "\n",
    "\n",
    "print(checa_panagrama(\"The quick brown fox jumps over the lazy dog\"))  # True\n",
    "print(checa_panagrama(\"Python é uma linguagem de programação\"))  # False\n",
    "\n"
   ]
  }
 ],
 "metadata": {
  "kernelspec": {
   "display_name": "Python 3 (ipykernel)",
   "language": "python",
   "name": "python3"
  },
  "language_info": {
   "codemirror_mode": {
    "name": "ipython",
    "version": 3
   },
   "file_extension": ".py",
   "mimetype": "text/x-python",
   "name": "python",
   "nbconvert_exporter": "python",
   "pygments_lexer": "ipython3",
   "version": "3.12.4"
  }
 },
 "nbformat": 4,
 "nbformat_minor": 5
}
