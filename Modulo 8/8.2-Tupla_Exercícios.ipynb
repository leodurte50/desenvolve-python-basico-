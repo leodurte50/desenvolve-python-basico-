{
 "cells": [
  {
   "cell_type": "markdown",
   "id": "0d5035b5",
   "metadata": {},
   "source": [
    "# Tupla\n",
    "\n",
    "## Aula 8.2"
   ]
  },
  {
   "cell_type": "markdown",
   "id": "0bdece85",
   "metadata": {},
   "source": [
    "### Q1. \n",
    "\n",
    "Escreva uma função ```calcula_area_perimetro``` que recebe **apenas um parâmetro** ```dimensoes``` e calcula a área e o perímetro a partir das dimensões dadas. \n",
    "- ```dimensoes``` é uma tupla (largura, comprimento) com as dimensões de um terreno retangular\n",
    "- Sua função deve calcular e retornar as seguintes operações\n",
    "   - $area = largura \\times comprimento$\n",
    "   - $perimetro = 2\\times(largura + comprimento)$\n"
   ]
  },
  {
   "cell_type": "code",
   "execution_count": null,
   "id": "0a258eba",
   "metadata": {},
   "outputs": [],
   "source": [
    "\n",
    "def calcula_area_perimetro(dimensoes):\n",
    "    \"\"\"\n",
    "    Calcula a área e o perímetro de um terreno retangular.\n",
    "    \n",
    "    Args:\n",
    "        dimensoes (tuple): Uma tupla contendo a largura e o comprimento do terreno.\n",
    "        \n",
    "    Returns:\n",
    "        tuple: Uma tupla contendo a área e o perímetro do terreno.\n",
    "    \"\"\"\n",
    "    largura, comprimento = dimensoes\n",
    "    area = largura * comprimento\n",
    "    perimetro = 2 * (largura + comprimento)\n",
    "    return area, perimetro\n"
   ]
  },
  {
   "cell_type": "code",
   "execution_count": null,
   "id": "e1866c04",
   "metadata": {},
   "outputs": [],
   "source": [
    "\n",
    "dimensoes_terreno = (5, 7)\n",
    "area, perimetro = calcula_area_perimetro(dimensoes_terreno)\n",
    "print(f\"Área: {area:.2f} m²\")\n",
    "print(f\"Perímetro: {perimetro:.2f} m\")"
   ]
  },
  {
   "cell_type": "markdown",
   "id": "cbdcb986",
   "metadata": {},
   "source": [
    "### Q2.\n",
    "\n",
    "Dada uma string, imprima todas as vogais que aparecem na string, bem como todos os índices onde elas ocorrem. Para isso, use a função ```enumerate```.\n"
   ]
  },
  {
   "cell_type": "code",
   "execution_count": null,
   "id": "1f6b1f2d",
   "metadata": {},
   "outputs": [],
   "source": [
    "# Implemente aqui sua solução\n",
    "frase = \"O rato roeu a roupa da Alice\"\n",
    "\n",
    "vogais = 'aeiou'\n",
    "\n",
    "for i, char in enumerate(frase):\n",
    "    if char.lower() in vogais:\n",
    "        print(f\"A vogal '{char}' aparece no índice {i}\")\n",
    "\n"
   ]
  },
  {
   "cell_type": "markdown",
   "id": "8d46663f",
   "metadata": {},
   "source": [
    "### Q3.\n",
    "\n",
    "Escreva uma função em Python chamada ```ordenar_tuplas``` que recebe uma lista de tuplas, cada uma contendo o nome de um aluno e sua respectiva média, e retorna uma nova lista ordenada em ordem decrescente de médias."
   ]
  },
  {
   "cell_type": "code",
   "execution_count": null,
   "id": "469f2e6e",
   "metadata": {},
   "outputs": [],
   "source": [
    "# Implemente aqui a função ordenar_tuplas\n",
    "def ordenar_tuplas(alunos_notas):\n",
    "    \"\"\"\n",
    "    Ordena uma lista de tuplas contendo o nome do aluno e sua média em ordem decrescente de médias.\n",
    "    \n",
    "    Args:\n",
    "        alunos_notas (list): Uma lista de tuplas, cada uma contendo o nome do aluno e sua média.\n",
    "        \n",
    "    Returns:\n",
    "        list: Uma nova lista ordenada em ordem decrescente de médias.\n",
    "    \"\"\"\n",
    "    # Ordena a lista de tuplas com base na segunda posição de cada tupla (a média)\n",
    "    alunos_notas_ordenados = sorted(alunos_notas, key=lambda x: x[1], reverse=True)\n",
    "    \n",
    "    return alunos_notas_ordenados\n",
    "\n",
    "\n",
    "\n"
   ]
  },
  {
   "cell_type": "code",
   "execution_count": null,
   "id": "1972c62b",
   "metadata": {},
   "outputs": [],
   "source": [
    "# Exemplo de uso:\n",
    "alunos_notas = [('Alice', 8.5), ('Bob', 7.2), ('Charlie', 9.0), ('David', 8.8)]\n",
    "resultado = ordenar_tuplas(alunos_notas)\n",
    "print(resultado)\n",
    "\n"
   ]
  },
  {
   "cell_type": "markdown",
   "id": "e0268fae",
   "metadata": {},
   "source": [
    "### Q4.\n",
    "\n",
    "Escreva uma função em Python chamada ```comprimir_tuplas``` que recebe uma lista de tuplas, cada uma contendo uma palavra e um número, e retorna uma nova lista de tuplas onde palavras idênticas são agrupadas e seus números são somados.\n",
    "\n"
   ]
  },
  {
   "cell_type": "code",
   "execution_count": null,
   "id": "30a221f3",
   "metadata": {},
   "outputs": [],
   "source": [
    "# Implemente aqui a função comprimir_tuplas\n",
    "def comprimir_tuplas(tuplas_originais):\n",
    "    \"\"\"\n",
    "    Comprime uma lista de tuplas, agrupando palavras idênticas e somando seus números.\n",
    "    \n",
    "    Args:\n",
    "        tuplas_originais (list): Uma lista de tuplas, cada uma contendo uma palavra e um número.\n",
    "        \n",
    "    Returns:\n",
    "        list: Uma nova lista de tuplas, onde palavras idênticas são agrupadas e seus números são somados.\n",
    "    \"\"\"\n",
    "\n",
    "    dicionario = {}\n",
    "    \n",
    "\n",
    "    for palavra, numero in tuplas_originais:\n",
    "        if palavra in dicionario:\n",
    "            dicionario[palavra] += numero\n",
    "         else:\n",
    "            dicionario[palavra] = numero\n",
    "    \n",
    "    return list(dicionario.items())\n",
    "\n",
    "\n"
   ]
  },
  {
   "cell_type": "code",
   "execution_count": null,
   "id": "80972bac",
   "metadata": {},
   "outputs": [],
   "source": [
    "\n",
    "tuplas_originais = [('maçã', 3), ('banana', 2), ('maçã', 5), ('laranja', 1), ('banana', 3)]\n",
    "resultado = comprimir_tuplas(tuplas_originais)\n",
    "print(resultado)\n"
   ]
  },
  {
   "cell_type": "markdown",
   "id": "649a5082",
   "metadata": {},
   "source": [
    "### Q5. \n",
    "\n",
    "- Escreva um script que peça o nome e a idade de todos na fila de uma balada. Crie uma lista de tuplas com os pares ```(nome, idade)``` de cada um. \n",
    "- Em seguida crie e imprima duas tuplas apenas com os nomes, uma com os menores de idade que não poderão entrar, e uma com os maiores de idade (```idade >= 18```). \n",
    "\n"
   ]
  },
  {
   "cell_type": "code",
   "execution_count": null,
   "id": "47cb0573",
   "metadata": {},
   "outputs": [],
   "source": [
    "## Implemente aqui sua solução\n",
    "\n",
    "\n",
    "pessoas = []\n",
    "\n",
    "\n",
    "while True:\n",
    "    nome = input(\"Insira o nome: \")\n",
    "    idade = int(input(\"Insira a idade: \"))\n",
    "    pessoas.append((nome, idade))\n",
    "\n",
    "\n",
    "    menores_de_idade = [nome for nome, idade in pessoas if idade < 18]\n",
    "    maiores_de_idade = [nome for nome, idade in pessoas if idade >= 18]\n",
    "\n",
    "\n",
    "    print(\"Menores de idade:\")\n",
    "    print(menores_de_idade)\n",
    "    print(\"\\nMaiores de idade:\")\n",
    "    print(maiores_de_idade) \n",
    "\n",
    "   "
   ]
  }
 ],
 "metadata": {
  "kernelspec": {
   "display_name": "Python 3 (ipykernel)",
   "language": "python",
   "name": "python3"
  },
  "language_info": {
   "codemirror_mode": {
    "name": "ipython",
    "version": 3
   },
   "file_extension": ".py",
   "mimetype": "text/x-python",
   "name": "python",
   "nbconvert_exporter": "python",
   "pygments_lexer": "ipython3",
   "version": "3.9.6"
  }
 },
 "nbformat": 4,
 "nbformat_minor": 5
}
