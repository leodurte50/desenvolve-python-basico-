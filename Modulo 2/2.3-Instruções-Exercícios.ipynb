{
  "cells": [
    {
      "cell_type": "markdown",
      "metadata": {
        "id": "1pCTdOHonv5f"
      },
      "source": [
        "# Módulo 2\n",
        "\n",
        "## 2.3 Instruções e Expressões\n",
        "\n",
        "### Q1\n",
        "\n",
        "Faça um programa que armazene o valor de 20 reais de salário por hora de um trabalhador, e o número de 40 horas trabalhadas na semana. Com essas informações, calcule e imprima:\n",
        "- Salário semanal bruto\n",
        "- Valor descontado por semana INSS (10% do bruto)\n",
        "- Valor descontado por semana pelo sindicato (5% do bruto)\n",
        "- Salário semanal líquido (Bruto - Descontos)"
      ]
    },
    {
      "cell_type": "code",
      "execution_count": 7,
      "metadata": {
        "id": "hVbX0I97nj6M"
      },
      "outputs": [
        {
          "name": "stdout",
          "output_type": "stream",
          "text": [
            "O salário bruto semanal é de 800\n",
            "O valor descontado por semana INSS é 80.0\n",
            "O valor descontado pelo sindicato é 40.0\n",
            "O salario bruto semanal é 680.0\n"
          ]
        }
      ],
      "source": [
        "## Escreva e execute seu código aqui\n",
        "salário_hora=20\n",
        "horas_trabalhadas=40\n",
        "salario_bruto=(salário_hora*horas_trabalhadas)\n",
        "INSS=(salario_bruto*.1)\n",
        "sindicato=(salario_bruto*.05)\n",
        "salario_semanal=(salario_bruto-INSS-sindicato)\n",
        "print (\"O salário bruto semanal é de\",(salario_bruto))\n",
        "print (\"O valor descontado por semana INSS é\",(INSS))\n",
        "print (\"O valor descontado pelo sindicato é\",(sindicato))\n",
        "print (\"O salario bruto semanal é\",(salario_semanal))\n",
        "\n"
      ]
    },
    {
      "cell_type": "markdown",
      "metadata": {
        "id": "pIxKX9J2oGZ1"
      },
      "source": [
        "### Q2\n",
        "\n",
        "Altere o programa anterior para a partir dos valores de horas trabalhadas por semana e salário por hora, calcular **em somente duas instruções**:\n",
        "- Salário semanal bruto\n",
        "- Salário semanal líquido com todos os descontos. Para a segunda instrução, realize todos os cálculos aritméticos em uma expressão composta.\n"
      ]
    },
    {
      "cell_type": "code",
      "execution_count": 10,
      "metadata": {
        "id": "pAHw9Xf9oGoi"
      },
      "outputs": [
        {
          "name": "stdout",
          "output_type": "stream",
          "text": [
            "O salario bruto semanal é 800\n",
            "O salario semanal líquido é 680.0\n"
          ]
        }
      ],
      "source": [
        "## Escreva e execute seu código aqui\n",
        "salário_hora=20\n",
        "horas_trabalhadas=40\n",
        "salario_bruto=(salário_hora*horas_trabalhadas)\n",
        "Salario_liquido=(salario_bruto-(salario_bruto*.1+salario_bruto*.05))\n",
        "print (\"O salario bruto semanal é\",(salario_bruto))\n",
        "print ('O salario semanal líquido é',(Salario_liquido))"
      ]
    },
    {
      "cell_type": "markdown",
      "metadata": {
        "id": "m8tlHRuWpBOB"
      },
      "source": [
        "### Q3\n",
        "\n",
        "Você está desenvolvendo um software de conversão de moeda e precisa calcular o valor equivalente em yuan chinês a partir de uma quantia em real. A taxa de câmbio é de 0.69 BRL (real) para 1 CNY (yuan). Escreva um programa que define em uma variável uma quantia em reais (BRL) e calcula o valor equivalente em yuan (CNY). Imprima o resultado."
      ]
    },
    {
      "cell_type": "code",
      "execution_count": 28,
      "metadata": {
        "id": "2bPw7uF6oeL9"
      },
      "outputs": [
        {
          "name": "stdout",
          "output_type": "stream",
          "text": [
            "1 CNY equivale a 0.69 BRL\n"
          ]
        }
      ],
      "source": [
        "## Escreva e execute seu código aqui\n",
        "yuan=1\n",
        "real=yuan*.69\n",
        "print (\"1 CNY equivale a\", (real),\"BRL\")"
      ]
    },
    {
      "cell_type": "markdown",
      "metadata": {
        "id": "-Na3ltDCp74A"
      },
      "source": [
        "### Q4\n",
        "\n",
        "Você é um treinador de corrida e deseja calcular a velocidade média que um atleta precisa manter para completar a Maratona Internacional de São Silvestre, que tem uma distância total de 42.195 km. A fórmula para calcular a velocidade média ($v\\_media$) é dada por $v\\_media = \\frac{distancia}{tempo}$ . Escreva um programa em Python para calcular a velocidade média necessária para completar a maratona em 3 horas.\n",
        "\n",
        "**Calcule e imprima o resultado em metros/segundo**, ou seja, converta a distância de quilômetros para metros ($metro = \\frac{km}{1000}$) e a velocidade de horas para segundos $(segundo = \\frac{hora}{3600})$."
      ]
    },
    {
      "cell_type": "code",
      "execution_count": 32,
      "metadata": {
        "id": "Bn6l8kcSrE4L"
      },
      "outputs": [
        {
          "name": "stdout",
          "output_type": "stream",
          "text": [
            "A velociade média para completar a prova em 3 horas é de 3.9069444444444446 metros por segundo!\n"
          ]
        }
      ],
      "source": [
        "## Escreva e execute seu código aqui\n",
        "d=42.195\n",
        "t=3\n",
        "v_m=(d*1000)/(t*3600)\n",
        "print (\"A velociade média para completar a prova em 3 horas é de\",(v_m), \"metros por segundo!\")\n",
        "\n"
      ]
    }
  ],
  "metadata": {
    "colab": {
      "provenance": []
    },
    "kernelspec": {
      "display_name": "Python 3",
      "name": "python3"
    },
    "language_info": {
      "codemirror_mode": {
        "name": "ipython",
        "version": 3
      },
      "file_extension": ".py",
      "mimetype": "text/x-python",
      "name": "python",
      "nbconvert_exporter": "python",
      "pygments_lexer": "ipython3",
      "version": "3.12.1"
    }
  },
  "nbformat": 4,
  "nbformat_minor": 0
}
